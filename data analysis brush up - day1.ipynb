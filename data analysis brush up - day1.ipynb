{
 "cells": [
  {
   "cell_type": "markdown",
   "id": "fe589ab6",
   "metadata": {},
   "source": [
    "### Data analysis with pandas and python - brush up - day 1"
   ]
  },
  {
   "cell_type": "markdown",
   "id": "0cc458e1",
   "metadata": {},
   "source": [
    "### Series"
   ]
  },
  {
   "cell_type": "code",
   "execution_count": 1,
   "id": "74a83fc3",
   "metadata": {},
   "outputs": [],
   "source": [
    "import pandas as pd"
   ]
  },
  {
   "cell_type": "code",
   "execution_count": 2,
   "id": "7923c9bb",
   "metadata": {},
   "outputs": [],
   "source": [
    "c=['India', 'United States', 'France', 'Italy']\n",
    "countries=pd.Series(c)\n",
    "color=['blue', 'green', 'red']\n",
    "colors=pd.Series(color)\n",
    "recipe = {\n",
    "  \"Flour\": True,\n",
    "  \"Sugar\": True,\n",
    "  \"Salt\": False\n",
    "}\n",
    "series_dict=pd.Series(recipe)\n"
   ]
  },
  {
   "cell_type": "code",
   "execution_count": 3,
   "id": "23cae4ac",
   "metadata": {},
   "outputs": [
    {
     "data": {
      "text/plain": [
       "0            India\n",
       "1    United States\n",
       "2           France\n",
       "3            Italy\n",
       "dtype: object"
      ]
     },
     "execution_count": 3,
     "metadata": {},
     "output_type": "execute_result"
    }
   ],
   "source": [
    "countries"
   ]
  },
  {
   "cell_type": "code",
   "execution_count": 4,
   "id": "6130f68c",
   "metadata": {},
   "outputs": [
    {
     "data": {
      "text/plain": [
       "{'Flour': True, 'Sugar': True, 'Salt': False}"
      ]
     },
     "execution_count": 4,
     "metadata": {},
     "output_type": "execute_result"
    }
   ],
   "source": [
    "recipe"
   ]
  },
  {
   "cell_type": "code",
   "execution_count": 7,
   "id": "51206d74",
   "metadata": {},
   "outputs": [],
   "source": [
    "val = pd.Series([3,6,9,2,1])"
   ]
  },
  {
   "cell_type": "code",
   "execution_count": 8,
   "id": "9daca4a7",
   "metadata": {},
   "outputs": [
    {
     "data": {
      "text/plain": [
       "21"
      ]
     },
     "execution_count": 8,
     "metadata": {},
     "output_type": "execute_result"
    }
   ],
   "source": [
    "val.sum()"
   ]
  },
  {
   "cell_type": "code",
   "execution_count": 9,
   "id": "a10c30df",
   "metadata": {},
   "outputs": [
    {
     "data": {
      "text/plain": [
       "4.2"
      ]
     },
     "execution_count": 9,
     "metadata": {},
     "output_type": "execute_result"
    }
   ],
   "source": [
    "val.mean()"
   ]
  },
  {
   "cell_type": "code",
   "execution_count": 10,
   "id": "b9de182b",
   "metadata": {},
   "outputs": [
    {
     "data": {
      "text/plain": [
       "3.2710854467592254"
      ]
     },
     "execution_count": 10,
     "metadata": {},
     "output_type": "execute_result"
    }
   ],
   "source": [
    "val.std()"
   ]
  },
  {
   "cell_type": "code",
   "execution_count": 11,
   "id": "af850bbe",
   "metadata": {},
   "outputs": [
    {
     "data": {
      "text/plain": [
       "324"
      ]
     },
     "execution_count": 11,
     "metadata": {},
     "output_type": "execute_result"
    }
   ],
   "source": [
    "val.product()"
   ]
  },
  {
   "cell_type": "code",
   "execution_count": 12,
   "id": "f6bcac30",
   "metadata": {},
   "outputs": [
    {
     "data": {
      "text/plain": [
       "5"
      ]
     },
     "execution_count": 12,
     "metadata": {},
     "output_type": "execute_result"
    }
   ],
   "source": [
    "val.size"
   ]
  },
  {
   "cell_type": "code",
   "execution_count": 13,
   "id": "e6b5493e",
   "metadata": {},
   "outputs": [
    {
     "data": {
      "text/plain": [
       "RangeIndex(start=0, stop=5, step=1)"
      ]
     },
     "execution_count": 13,
     "metadata": {},
     "output_type": "execute_result"
    }
   ],
   "source": [
    "val.index"
   ]
  },
  {
   "cell_type": "code",
   "execution_count": 16,
   "id": "11b2663b",
   "metadata": {},
   "outputs": [
    {
     "data": {
      "text/plain": [
       "True"
      ]
     },
     "execution_count": 16,
     "metadata": {},
     "output_type": "execute_result"
    }
   ],
   "source": [
    "val.is_unique"
   ]
  },
  {
   "cell_type": "code",
   "execution_count": 17,
   "id": "0f9db2b8",
   "metadata": {},
   "outputs": [
    {
     "data": {
      "text/plain": [
       "array([3, 6, 9, 2, 1], dtype=int64)"
      ]
     },
     "execution_count": 17,
     "metadata": {},
     "output_type": "execute_result"
    }
   ],
   "source": [
    "val.values"
   ]
  },
  {
   "cell_type": "code",
   "execution_count": 18,
   "id": "2856fff3",
   "metadata": {},
   "outputs": [],
   "source": [
    "ind=['a','b','c','d']\n",
    "val=[234,456,789,999]\n",
    "indval=pd.Series(val,ind)"
   ]
  },
  {
   "cell_type": "code",
   "execution_count": 19,
   "id": "01f0ef27",
   "metadata": {},
   "outputs": [
    {
     "data": {
      "text/plain": [
       "a    234\n",
       "b    456\n",
       "c    789\n",
       "d    999\n",
       "dtype: int64"
      ]
     },
     "execution_count": 19,
     "metadata": {},
     "output_type": "execute_result"
    }
   ],
   "source": [
    "indval"
   ]
  },
  {
   "cell_type": "code",
   "execution_count": 20,
   "id": "080633bd",
   "metadata": {},
   "outputs": [],
   "source": [
    "#pd.read_csv() to read a csv file\n",
    "#pd.read_csv(\"foods.csv\",usecols=['Menu Item']).squeeze('columns') - To convert a one column df into series, foods.csv - filename,\n",
    "#usecols - to select only Menu Item column from the foods.csv file and squeeze is used to convert the df into series"
   ]
  },
  {
   "cell_type": "code",
   "execution_count": null,
   "id": "72bea6d6",
   "metadata": {},
   "outputs": [],
   "source": [
    "#eg=pd.read_csv(\"blabla.csv\")\n",
    "#eg.head()\n",
    "#eg.tail()"
   ]
  }
 ],
 "metadata": {
  "kernelspec": {
   "display_name": "Python 3 (ipykernel)",
   "language": "python",
   "name": "python3"
  },
  "language_info": {
   "codemirror_mode": {
    "name": "ipython",
    "version": 3
   },
   "file_extension": ".py",
   "mimetype": "text/x-python",
   "name": "python",
   "nbconvert_exporter": "python",
   "pygments_lexer": "ipython3",
   "version": "3.8.12"
  }
 },
 "nbformat": 4,
 "nbformat_minor": 5
}
